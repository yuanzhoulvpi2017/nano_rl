{
 "cells": [
  {
   "cell_type": "markdown",
   "id": "41bbcfff",
   "metadata": {},
   "source": [
    "## step1 数据结构和调用方式\n",
    "\n",
    "\n",
    "### 接口输入数据格式\n",
    "1. 这几个key必须要要有。哪怕为none都没事。\n",
    "```python\n",
    "input_data = {\n",
    "    'data_source':\"数据源或者数据集名称\",\n",
    "    'solution_str':\"输入 + 模型输出\",\n",
    "    'ground_truth':\"标准答案（来自于数据）\",\n",
    "    'extra_info': \"附加信息\",\n",
    "    'prompt_str':\"输入\",\n",
    "    'response_str':\"模型输出\"\n",
    "}\n",
    "```\n",
    "\n",
    "\n",
    "### 接口输出数据格式\n",
    "\n",
    "1. 必须要有'score'这个key，别的key有没有都行，如果想要展示多个维度的分数，比如format、accuracy,那就加上。\n",
    "2. 所有的key对应的value必须是float类型的。\n",
    "\n",
    "```python\n",
    "\n",
    "score = {\n",
    "    \"format\": 1.0,\n",
    "    \"accuracy\": 0.5,\n",
    "    \"score\":1.3 \n",
    "}\n",
    "\n",
    "```"
   ]
  },
  {
   "cell_type": "code",
   "execution_count": 1,
   "id": "1e3b39df",
   "metadata": {},
   "outputs": [
    {
     "name": "stdout",
     "output_type": "stream",
     "text": [
      "Expecting value: line 1 column 1 (char 0)\n"
     ]
    },
    {
     "data": {
      "text/plain": [
       "0.0"
      ]
     },
     "execution_count": 1,
     "metadata": {},
     "output_type": "execute_result"
    }
   ],
   "source": [
    "import requests\n",
    "\n",
    "\n",
    "def call_online_reward_model(**kwargs):\n",
    "    try:\n",
    "        headers = {\n",
    "            \"accept\": \"application/json\",\n",
    "            \"Content-Type\": \"application/json\",\n",
    "        }\n",
    "\n",
    "        json_data = {**kwargs}\n",
    "\n",
    "        response = requests.post(\n",
    "            \"http://10.xxx.0.xxx:5009/get_reward\", headers=headers, json=json_data\n",
    "        )\n",
    "        res = response.json()\n",
    "\n",
    "        final_score = res.get(\"score\")\n",
    "        print(res)\n",
    "        return float(final_score)\n",
    "    except Exception as e:\n",
    "        print(e)\n",
    "        return 0.0\n",
    "\n",
    "\n",
    "input_data = {\n",
    "    \"data_source\": \"DigitalLearningGmbH/MATH-lighteval\",\n",
    "    \"solution_str\": \"<|im_start|>system\\nYou are Qwen, created by Alibaba Cloud. You are a helpful assistant.<|im_end|>\\n<|im_start|>user\\nIf $A$ is an angle such that $\\\\tan A + \\\\sec A = 2,$ enter all possible values of $\\\\cos A,$ separated by commas. Let's think step by step and output the final answer within \\\\boxed{}.<|im_end|>\\n<|im_start|>assistant\\nTo solve for \\\\(\\\\cos A\\\\) given that \\\\(\\\\tan A + \\\\sec A = 2\\\\), we start by expressing \\\\(\\\\tan A\\\\) and \\\\(\\\\sec A\\\\) in terms of \\\\(\\\\sin A\\\\) and \\\\(\\\\cos A\\\\).\\n\\nWe know:\\n\\\\[\\n\\\\tan A = \\\\frac{\\\\sin A}{\\\\cos A} \\\\quad \\\\text{and} \\\\quad \\\\sec A = \\\\frac{1}{\\\\cos A}\\n\\\\]\\nSubstituting these into the given equation:\\n\\\\[\\n\\\\frac{\\\\sin A}{\\\\cos A} + \\\\frac{1}{\\\\cos A} = 2\\n\\\\]\\nCombining the terms on the left-hand side:\\n\\\\[\\n\\\\frac{\\\\sin A + 1}{\\\\cos A} = 2\\n\\\\]\\nMultiplying both sides by \\\\(\\\\cos A\\\\):\\n\\\\[\\n\\\\sin A + 1 = 2 \\\\cos A\\n\\\\]\\nRearranging to isolate \\\\(\\\\sin A\\\\):\\n\\\\[\\n\\\\sin A = 2 \\\\cos A - 1\\n\\\\]\\n\\nNext, we use the Pythagorean identity \\\\(\\\\sin^2 A + \\\\cos^2 A = 1\\\\). Substituting \\\\(\\\\sin A = 2 \\\\cos A - 1\\\\) into this identity:\\n\\\\[\\n(2 \\\\cos A - 1)^2 + \\\\cos^2 A = 1\\n\\\\]\\nExpanding and simplifying the left-hand side:\\n\\\\[\\n(4 \\\\cos^2 A - 4 \\\\cos A + 1) + \\\\cos^2 A = 1\\n\\\\]\\nCombine like terms:\\n\\\\[\\n5 \\\\cos^2 A - 4 \\\\cos A + 1 = 1\\n\\\\]\\nSubtracting 1 from both sides:\\n\\\\[\\n5 \\\\cos^2 A - 4 \\\\cos A = 0\\n\\\\]\\nFactoring out \\\\(\\\\cos A\\\\):\\n\\\\[\\n\\\\cos A (5 \\\\cos A - 4) = 0\\n\\\\]\\n\\nThis gives us two possible solutions:\\n\\\\[\\n\\\\cos A = 0 \\\\quad \\\\text{or} \\\\quad 5 \\\\cos A - 4 = 0\\n\\\\]\\n\\nSolving the second equation:\\n\\\\[\\n5 \\\\cos A = 4\\n\\\\]\\n\\\\[\\n\\\\cos A = \\\\frac{4}{5}\\n\\\\]\\n\\nNow, we need to check which of these solutions satisfy the original equation \\\\(\\\\tan A + \\\\sec A = 2\\\\).\\n\\n1. For \\\\(\\\\cos A = 0\\\\):\\n   \\\\[\\n   \\\\sec A = \\\\frac{1}{\\\\cos A} = \\\\frac{1}{0}\\n   \\\\]\\n   \\\\(\\\\sec A\\\\) is undefined, so \\\\(\\\\cos A = 0\\\\) is not a valid solution.\\n\\n2. For \\\\(\\\\cos A = \\\\frac{4}{5}\\\\):\\n   \\\\[\\n   \\\\sin A = 2 \\\\cos A - 1 = 2 \\\\left(\\\\frac{4}{5}\\\\right) - 1 = \\\\frac{8}{5} - 1 = \\\\frac{3}{5}\\n   \\\\]\\n   \\\\[\\n   \\\\tan A = \\\\frac{\\\\sin A}{\\\\cos A} = \\\\frac{\\\\frac{3}{5}}{\\\\frac{4}{5}} = \\\\frac{3}{4}\\n   \\\\]\\n   \\\\[\\n   \\\\sec A = \\\\frac{1}{\\\\cos A} = \\\\frac{5}{4}\\n   \\\\]\\n   \\\\[\\n   \\\\tan A + \\\\sec A = \\\\frac{3}{4} + \\\\frac{5}{4} = 2\\n   \\\\]\\n   This solution satisfies the original equation.\\n\\nTherefore, the only valid solution is \\\\(\\\\cos A = \\\\frac{4}{5}\\\\).\\n\\nThe final answer is:\\n\\\\[\\n\\\\boxed{\\\\frac{4}{5}}\\n\\\\]<|im_end|>\",\n",
    "    \"ground_truth\": \"\\\\frac{4}{5}\",\n",
    "    \"extra_info\": {\"index\": 6820, \"split\": \"train\"},\n",
    "    \"prompt_str\": \"<|im_start|>system\\nYou are Qwen, created by Alibaba Cloud. You are a helpful assistant.<|im_end|>\\n<|im_start|>user\\nIf $A$ is an angle such that $\\\\tan A + \\\\sec A = 2,$ enter all possible values of $\\\\cos A,$ separated by commas. Let's think step by step and output the final answer within \\\\boxed{}.<|im_end|>\\n<|im_start|>assistant\\n\",\n",
    "    \"response_str\": [\n",
    "        \"<think> xx</think> <answer>\\\\boxed{\\\\frac{4}{5}}</answer>\"\n",
    "    ],  # [\"To solve for \\\\(\\\\cos A\\\\) given that \\\\(\\\\tan A + \\\\sec A = 2\\\\), we start by expressing \\\\(\\\\tan A\\\\) and \\\\(\\\\sec A\\\\) in terms of \\\\(\\\\sin A\\\\) and \\\\(\\\\cos A\\\\).\\n\\nWe know:\\n\\\\[\\n\\\\tan A = \\\\frac{\\\\sin A}{\\\\cos A} \\\\quad \\\\text{and} \\\\quad \\\\sec A = \\\\frac{1}{\\\\cos A}\\n\\\\]\\nSubstituting these into the given equation:\\n\\\\[\\n\\\\frac{\\\\sin A}{\\\\cos A} + \\\\frac{1}{\\\\cos A} = 2\\n\\\\]\\nCombining the terms on the left-hand side:\\n\\\\[\\n\\\\frac{\\\\sin A + 1}{\\\\cos A} = 2\\n\\\\]\\nMultiplying both sides by \\\\(\\\\cos A\\\\):\\n\\\\[\\n\\\\sin A + 1 = 2 \\\\cos A\\n\\\\]\\nRearranging to isolate \\\\(\\\\sin A\\\\):\\n\\\\[\\n\\\\sin A = 2 \\\\cos A - 1\\n\\\\]\\n\\nNext, we use the Pythagorean identity \\\\(\\\\sin^2 A + \\\\cos^2 A = 1\\\\). Substituting \\\\(\\\\sin A = 2 \\\\cos A - 1\\\\) into this identity:\\n\\\\[\\n(2 \\\\cos A - 1)^2 + \\\\cos^2 A = 1\\n\\\\]\\nExpanding and simplifying the left-hand side:\\n\\\\[\\n(4 \\\\cos^2 A - 4 \\\\cos A + 1) + \\\\cos^2 A = 1\\n\\\\]\\nCombine like terms:\\n\\\\[\\n5 \\\\cos^2 A - 4 \\\\cos A + 1 = 1\\n\\\\]\\nSubtracting 1 from both sides:\\n\\\\[\\n5 \\\\cos^2 A - 4 \\\\cos A = 0\\n\\\\]\\nFactoring out \\\\(\\\\cos A\\\\):\\n\\\\[\\n\\\\cos A (5 \\\\cos A - 4) = 0\\n\\\\]\\n\\nThis gives us two possible solutions:\\n\\\\[\\n\\\\cos A = 0 \\\\quad \\\\text{or} \\\\quad 5 \\\\cos A - 4 = 0\\n\\\\]\\n\\nSolving the second equation:\\n\\\\[\\n5 \\\\cos A = 4\\n\\\\]\\n\\\\[\\n\\\\cos A = \\\\frac{4}{5}\\n\\\\]\\n\\nNow, we need to check which of these solutions satisfy the original equation \\\\(\\\\tan A + \\\\sec A = 2\\\\).\\n\\n1. For \\\\(\\\\cos A = 0\\\\):\\n   \\\\[\\n   \\\\sec A = \\\\frac{1}{\\\\cos A} = \\\\frac{1}{0}\\n   \\\\]\\n   \\\\(\\\\sec A\\\\) is undefined, so \\\\(\\\\cos A = 0\\\\) is not a valid solution.\\n\\n2. For \\\\(\\\\cos A = \\\\frac{4}{5}\\\\):\\n   \\\\[\\n   \\\\sin A = 2 \\\\cos A - 1 = 2 \\\\left(\\\\frac{4}{5}\\\\right) - 1 = \\\\frac{8}{5} - 1 = \\\\frac{3}{5}\\n   \\\\]\\n   \\\\[\\n   \\\\tan A = \\\\frac{\\\\sin A}{\\\\cos A} = \\\\frac{\\\\frac{3}{5}}{\\\\frac{4}{5}} = \\\\frac{3}{4}\\n   \\\\]\\n   \\\\[\\n   \\\\sec A = \\\\frac{1}{\\\\cos A} = \\\\frac{5}{4}\\n   \\\\]\\n   \\\\[\\n   \\\\tan A + \\\\sec A = \\\\frac{3}{4} + \\\\frac{5}{4} = 2\\n   \\\\]\\n   This solution satisfies the original equation.\\n\\nTherefore, the only valid solution is \\\\(\\\\cos A = \\\\frac{4}{5}\\\\).\\n\\nThe final answer is:\\n\\\\[\\n\\\\boxed{\\\\frac{4}{5}}\\n\\\\]<|im_end|>\"],\n",
    "}\n",
    "\n",
    "\n",
    "\n",
    "call_online_reward_model(**input_data)\n"
   ]
  },
  {
   "cell_type": "markdown",
   "id": "94c15685",
   "metadata": {},
   "source": [
    "## step2 奖励模型的经验分享\n",
    "### 一、模型输出差异（或者叫prompt差异）\n",
    "\n",
    "\n",
    "直接使用qwen系列（或者prompt要求不一样）的模型；和使用ds分享的模型，他们的提取格式是不一样的\n",
    "\n",
    "1. `qwen`系列的`response_str`是这样的: `<think> xx</think> <answer>\\\\boxed{\\\\frac{4}{5}}</answer>`\n",
    "2. `ds` 系列的`response_str`是这样的：`xxxthink_strxxx`+  `\\n</think>\\n`+ `answer` + `<｜end▁of▁sentence｜>`\n",
    "\n"
   ]
  },
  {
   "cell_type": "code",
   "execution_count": 2,
   "id": "e6f46793",
   "metadata": {},
   "outputs": [],
   "source": [
    "# ds系列\n",
    "input_data = {\n",
    "    \"data_source\": \"cloud\",\n",
    "    \"solution_str\": \"<｜begin▁of▁sentence｜><｜User｜>能不能分享一句你最喜欢的句子？<｜Assistant｜><think>\\n嗯，用户让我分享一句我最喜欢的句子。首先，我要理解用户的需求是什么。他们可能是在寻找一句有启发性的句子，或者想用在某个场合，比如演讲、写作或者心情好的时候引用。\\n\\n接下来，我需要思考自己最喜欢的句子是什么。我记得之前有过一些关于生命、时间或者情感的句子，但用户这次给了一个例子：“人生就像一杯茶，需要慢慢品味，才能品出其中的韵味。”这句话很好，因为它简洁明了，容易引起共鸣。\\n\\n然后，我要考虑用户的深层需求。他们可能不仅仅想要句子本身，还可能希望了解这句话的来源或者背后的意义。所以，在回应的时候，我可以稍微解释一下，说明这句话如何反映了我的观点，或者它所传达的情感。\\n\\n另外，我还需要确保回复的语气友好且亲切，让用户感到被接受和支持。使用表情符号“😊”可以增加亲切感，让对方感受到我的积极情绪。\\n\\n最后，我要确认整个回复是否简洁明了，是否符合用户的要求。确保没有遗漏任何关键点，并且回应到位，让用户满意。\\n</think>\\n\\n当然可以！这是我最喜欢的一句：\\n\\n人生就像一杯茶，需要慢慢品味，才能品出其中的韵味。\\n\\n希望你喜欢这句话！😊<｜end▁of▁sentence｜>\",\n",
    "    \"ground_truth\": \"1、保持联系是一件难度五颗星的事 2、后来你会发现 你释怀不了放不下的人 到最后都不会有任何意义 能留在你身边的 从来都不是你拼命去追赶的人 3、再遇到喜欢的人，想来只觉得非常遗憾，早几年遇见就好了,那些热烈、欢喜、年少轻狂和桀骜不驯，连同整个世界都要送给你。可你来得太晚了，我已经学会了一个人送走落日，一个人等待星光，我的爱早在无数个孤立无援的时刻里，变得有了计较和盘算，再也没有曾经的纯粹。 4、成年人了，要和有结果的人和事物在一起 5、有时候到此为止就是最好的收场 6、任何关系 不用很刻意的去维持和经营 一切随缘就好 既然长大了 就要做好每个人都会随时离开的准备. 7、当我开始享受黑暗的那一刻起，我就不再期待黎明 8、日子难过 我也难过。 9、“拧不开瓶盖就使劲“夜路可以自己“天冷就穿“饿了就“累了就睡觉。” 10、“我不喜欢下雨” “但我喜欢下雨的声音” “就像” “我是个爱笑的人” “却不是十分开心的人” 11、长大了就不要问别人为什么离开你了，你只需要对留在身边的人说声谢谢 12、以后想到我 你会不会觉得遗憾 13、人世风灯向死而生. 14、后来我发现，世界真的很大，没有刻意的见面，就真的不会再见了。” 15、热爱可抵岁月漫长. 16、富士山终究留不住欲落的樱花 我的温柔也留不住她想走的步伐 \",\n",
    "    \"extra_info\": {\"index\": 2534, \"split\": \"train\"},\n",
    "    \"prompt_str\": \"<｜begin▁of▁sentence｜><｜User｜>能不能分享一句你最喜欢的句子？<｜Assistant｜><think>\\n\",\n",
    "    \"response_str\": \"嗯，用户让我分享一句我最喜欢的句子。首先，我要理解用户的需求是什么。他们可能是在寻找一句有启发性的句子，或者想用在某个场合，比如演讲、写作或者心情好的时候引用。\\n\\n接下来，我需要思考自己最喜欢的句子是什么。我记得之前有过一些关于生命、时间或者情感的句子，但用户这次给了一个例子：“人生就像一杯茶，需要慢慢品味，才能品出其中的韵味。”这句话很好，因为它简洁明了，容易引起共鸣。\\n\\n然后，我要考虑用户的深层需求。他们可能不仅仅想要句子本身，还可能希望了解这句话的来源或者背后的意义。所以，在回应的时候，我可以稍微解释一下，说明这句话如何反映了我的观点，或者它所传达的情感。\\n\\n另外，我还需要确保回复的语气友好且亲切，让用户感到被接受和支持。使用表情符号“😊”可以增加亲切感，让对方感受到我的积极情绪。\\n\\n最后，我要确认整个回复是否简洁明了，是否符合用户的要求。确保没有遗漏任何关键点，并且回应到位，让用户满意。\\n</think>\\n\\n当然可以！这是我最喜欢的一句：\\n\\n人生就像一杯茶，需要慢慢品味，才能品出其中的韵味。\\n\\n希望你喜欢这句话！😊<｜end▁of▁sentence｜>\",\n",
    "}\n"
   ]
  },
  {
   "cell_type": "code",
   "execution_count": null,
   "id": "eba12b28",
   "metadata": {},
   "outputs": [],
   "source": [
    "# qwen 系列\n",
    "\n",
    "input_data = {\n",
    "    \"data_source\": \"DigitalLearningGmbH/MATH-lighteval\",\n",
    "    \"solution_str\": \"<|im_start|>system\\nYou are Qwen, created by Alibaba Cloud. You are a helpful assistant.<|im_end|>\\n<|im_start|>user\\nIf $A$ is an angle such that $\\\\tan A + \\\\sec A = 2,$ enter all possible values of $\\\\cos A,$ separated by commas. Let's think step by step and output the final answer within \\\\boxed{}.<|im_end|>\\n<|im_start|>assistant\\nTo solve for \\\\(\\\\cos A\\\\) given that \\\\(\\\\tan A + \\\\sec A = 2\\\\), we start by expressing \\\\(\\\\tan A\\\\) and \\\\(\\\\sec A\\\\) in terms of \\\\(\\\\sin A\\\\) and \\\\(\\\\cos A\\\\).\\n\\nWe know:\\n\\\\[\\n\\\\tan A = \\\\frac{\\\\sin A}{\\\\cos A} \\\\quad \\\\text{and} \\\\quad \\\\sec A = \\\\frac{1}{\\\\cos A}\\n\\\\]\\nSubstituting these into the given equation:\\n\\\\[\\n\\\\frac{\\\\sin A}{\\\\cos A} + \\\\frac{1}{\\\\cos A} = 2\\n\\\\]\\nCombining the terms on the left-hand side:\\n\\\\[\\n\\\\frac{\\\\sin A + 1}{\\\\cos A} = 2\\n\\\\]\\nMultiplying both sides by \\\\(\\\\cos A\\\\):\\n\\\\[\\n\\\\sin A + 1 = 2 \\\\cos A\\n\\\\]\\nRearranging to isolate \\\\(\\\\sin A\\\\):\\n\\\\[\\n\\\\sin A = 2 \\\\cos A - 1\\n\\\\]\\n\\nNext, we use the Pythagorean identity \\\\(\\\\sin^2 A + \\\\cos^2 A = 1\\\\). Substituting \\\\(\\\\sin A = 2 \\\\cos A - 1\\\\) into this identity:\\n\\\\[\\n(2 \\\\cos A - 1)^2 + \\\\cos^2 A = 1\\n\\\\]\\nExpanding and simplifying the left-hand side:\\n\\\\[\\n(4 \\\\cos^2 A - 4 \\\\cos A + 1) + \\\\cos^2 A = 1\\n\\\\]\\nCombine like terms:\\n\\\\[\\n5 \\\\cos^2 A - 4 \\\\cos A + 1 = 1\\n\\\\]\\nSubtracting 1 from both sides:\\n\\\\[\\n5 \\\\cos^2 A - 4 \\\\cos A = 0\\n\\\\]\\nFactoring out \\\\(\\\\cos A\\\\):\\n\\\\[\\n\\\\cos A (5 \\\\cos A - 4) = 0\\n\\\\]\\n\\nThis gives us two possible solutions:\\n\\\\[\\n\\\\cos A = 0 \\\\quad \\\\text{or} \\\\quad 5 \\\\cos A - 4 = 0\\n\\\\]\\n\\nSolving the second equation:\\n\\\\[\\n5 \\\\cos A = 4\\n\\\\]\\n\\\\[\\n\\\\cos A = \\\\frac{4}{5}\\n\\\\]\\n\\nNow, we need to check which of these solutions satisfy the original equation \\\\(\\\\tan A + \\\\sec A = 2\\\\).\\n\\n1. For \\\\(\\\\cos A = 0\\\\):\\n   \\\\[\\n   \\\\sec A = \\\\frac{1}{\\\\cos A} = \\\\frac{1}{0}\\n   \\\\]\\n   \\\\(\\\\sec A\\\\) is undefined, so \\\\(\\\\cos A = 0\\\\) is not a valid solution.\\n\\n2. For \\\\(\\\\cos A = \\\\frac{4}{5}\\\\):\\n   \\\\[\\n   \\\\sin A = 2 \\\\cos A - 1 = 2 \\\\left(\\\\frac{4}{5}\\\\right) - 1 = \\\\frac{8}{5} - 1 = \\\\frac{3}{5}\\n   \\\\]\\n   \\\\[\\n   \\\\tan A = \\\\frac{\\\\sin A}{\\\\cos A} = \\\\frac{\\\\frac{3}{5}}{\\\\frac{4}{5}} = \\\\frac{3}{4}\\n   \\\\]\\n   \\\\[\\n   \\\\sec A = \\\\frac{1}{\\\\cos A} = \\\\frac{5}{4}\\n   \\\\]\\n   \\\\[\\n   \\\\tan A + \\\\sec A = \\\\frac{3}{4} + \\\\frac{5}{4} = 2\\n   \\\\]\\n   This solution satisfies the original equation.\\n\\nTherefore, the only valid solution is \\\\(\\\\cos A = \\\\frac{4}{5}\\\\).\\n\\nThe final answer is:\\n\\\\[\\n\\\\boxed{\\\\frac{4}{5}}\\n\\\\]<|im_end|>\",\n",
    "    \"ground_truth\": \"\\\\frac{4}{5}\",\n",
    "    \"extra_info\": {\"index\": 6820, \"split\": \"train\"},\n",
    "    \"prompt_str\": \"<|im_start|>system\\nYou are Qwen, created by Alibaba Cloud. You are a helpful assistant.<|im_end|>\\n<|im_start|>user\\nIf $A$ is an angle such that $\\\\tan A + \\\\sec A = 2,$ enter all possible values of $\\\\cos A,$ separated by commas. Let's think step by step and output the final answer within \\\\boxed{}.<|im_end|>\\n<|im_start|>assistant\\n\",\n",
    "    \"response_str\": [\n",
    "        \"<think> xx</think> <answer>\\\\boxed{\\\\frac{4}{5}}</answer>\"\n",
    "    ],  # [\"To solve for \\\\(\\\\cos A\\\\) given that \\\\(\\\\tan A + \\\\sec A = 2\\\\), we start by expressing \\\\(\\\\tan A\\\\) and \\\\(\\\\sec A\\\\) in terms of \\\\(\\\\sin A\\\\) and \\\\(\\\\cos A\\\\).\\n\\nWe know:\\n\\\\[\\n\\\\tan A = \\\\frac{\\\\sin A}{\\\\cos A} \\\\quad \\\\text{and} \\\\quad \\\\sec A = \\\\frac{1}{\\\\cos A}\\n\\\\]\\nSubstituting these into the given equation:\\n\\\\[\\n\\\\frac{\\\\sin A}{\\\\cos A} + \\\\frac{1}{\\\\cos A} = 2\\n\\\\]\\nCombining the terms on the left-hand side:\\n\\\\[\\n\\\\frac{\\\\sin A + 1}{\\\\cos A} = 2\\n\\\\]\\nMultiplying both sides by \\\\(\\\\cos A\\\\):\\n\\\\[\\n\\\\sin A + 1 = 2 \\\\cos A\\n\\\\]\\nRearranging to isolate \\\\(\\\\sin A\\\\):\\n\\\\[\\n\\\\sin A = 2 \\\\cos A - 1\\n\\\\]\\n\\nNext, we use the Pythagorean identity \\\\(\\\\sin^2 A + \\\\cos^2 A = 1\\\\). Substituting \\\\(\\\\sin A = 2 \\\\cos A - 1\\\\) into this identity:\\n\\\\[\\n(2 \\\\cos A - 1)^2 + \\\\cos^2 A = 1\\n\\\\]\\nExpanding and simplifying the left-hand side:\\n\\\\[\\n(4 \\\\cos^2 A - 4 \\\\cos A + 1) + \\\\cos^2 A = 1\\n\\\\]\\nCombine like terms:\\n\\\\[\\n5 \\\\cos^2 A - 4 \\\\cos A + 1 = 1\\n\\\\]\\nSubtracting 1 from both sides:\\n\\\\[\\n5 \\\\cos^2 A - 4 \\\\cos A = 0\\n\\\\]\\nFactoring out \\\\(\\\\cos A\\\\):\\n\\\\[\\n\\\\cos A (5 \\\\cos A - 4) = 0\\n\\\\]\\n\\nThis gives us two possible solutions:\\n\\\\[\\n\\\\cos A = 0 \\\\quad \\\\text{or} \\\\quad 5 \\\\cos A - 4 = 0\\n\\\\]\\n\\nSolving the second equation:\\n\\\\[\\n5 \\\\cos A = 4\\n\\\\]\\n\\\\[\\n\\\\cos A = \\\\frac{4}{5}\\n\\\\]\\n\\nNow, we need to check which of these solutions satisfy the original equation \\\\(\\\\tan A + \\\\sec A = 2\\\\).\\n\\n1. For \\\\(\\\\cos A = 0\\\\):\\n   \\\\[\\n   \\\\sec A = \\\\frac{1}{\\\\cos A} = \\\\frac{1}{0}\\n   \\\\]\\n   \\\\(\\\\sec A\\\\) is undefined, so \\\\(\\\\cos A = 0\\\\) is not a valid solution.\\n\\n2. For \\\\(\\\\cos A = \\\\frac{4}{5}\\\\):\\n   \\\\[\\n   \\\\sin A = 2 \\\\cos A - 1 = 2 \\\\left(\\\\frac{4}{5}\\\\right) - 1 = \\\\frac{8}{5} - 1 = \\\\frac{3}{5}\\n   \\\\]\\n   \\\\[\\n   \\\\tan A = \\\\frac{\\\\sin A}{\\\\cos A} = \\\\frac{\\\\frac{3}{5}}{\\\\frac{4}{5}} = \\\\frac{3}{4}\\n   \\\\]\\n   \\\\[\\n   \\\\sec A = \\\\frac{1}{\\\\cos A} = \\\\frac{5}{4}\\n   \\\\]\\n   \\\\[\\n   \\\\tan A + \\\\sec A = \\\\frac{3}{4} + \\\\frac{5}{4} = 2\\n   \\\\]\\n   This solution satisfies the original equation.\\n\\nTherefore, the only valid solution is \\\\(\\\\cos A = \\\\frac{4}{5}\\\\).\\n\\nThe final answer is:\\n\\\\[\\n\\\\boxed{\\\\frac{4}{5}}\\n\\\\]<|im_end|>\"],\n",
    "}"
   ]
  },
  {
   "cell_type": "markdown",
   "id": "635a4fcf",
   "metadata": {},
   "source": [
    "### 二、关于math数据的结果提取\n",
    "\n",
    "1. 从answer里面进一步提取boxed部分，提取boxed不可以使用正则。（因为各种`{{{` 、`}}`问题）。所以使用计数方法来提取才可以。\n",
    "\n",
    "2. 模型生成的正确答案和标准答案如何匹配：`calc_accuracy4math函数` （也不是最优解，还可以继续改进）\n",
    "\n",
    "\n"
   ]
  },
  {
   "cell_type": "markdown",
   "id": "53bdc24c",
   "metadata": {},
   "source": [
    "### 三、关于选择题问题\n",
    "1. 比如模型输出的是选项里面的内容；但是标准答案是选项。这样就没办法进行匹配成功"
   ]
  },
  {
   "cell_type": "markdown",
   "id": "ad6f7347",
   "metadata": {},
   "source": [
    "### 四、异常处理\n",
    "\n",
    "1. 实验中发现模型训练时输出重复且无法停止，经排查为生成式Reward接口异常导致：模型因生成长度限制（2048），仅输出`think`内容而无法生成完整`answer`，触发接口默认返回0.0分（高于正常Reward的负分），模型学到错误信号。\n",
    "2. 后来就将分数调整到-99.0（也可以更低）"
   ]
  },
  {
   "cell_type": "code",
   "execution_count": null,
   "id": "ce066557",
   "metadata": {},
   "outputs": [],
   "source": []
  }
 ],
 "metadata": {
  "kernelspec": {
   "display_name": "verl_custom",
   "language": "python",
   "name": "python3"
  },
  "language_info": {
   "codemirror_mode": {
    "name": "ipython",
    "version": 3
   },
   "file_extension": ".py",
   "mimetype": "text/x-python",
   "name": "python",
   "nbconvert_exporter": "python",
   "pygments_lexer": "ipython3",
   "version": "3.11.0"
  }
 },
 "nbformat": 4,
 "nbformat_minor": 5
}
